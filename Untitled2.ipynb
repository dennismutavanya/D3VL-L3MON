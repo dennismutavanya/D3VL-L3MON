{
  "nbformat": 4,
  "nbformat_minor": 0,
  "metadata": {
    "colab": {
      "provenance": [],
      "authorship_tag": "ABX9TyMppeoXR83GvkISHUdMLOJc",
      "include_colab_link": true
    },
    "kernelspec": {
      "name": "python3",
      "display_name": "Python 3"
    },
    "language_info": {
      "name": "python"
    }
  },
  "cells": [
    {
      "cell_type": "markdown",
      "metadata": {
        "id": "view-in-github",
        "colab_type": "text"
      },
      "source": [
        "<a href=\"https://colab.research.google.com/github/dennismutavanya/D3VL-L3MON/blob/main/Untitled2.ipynb\" target=\"_parent\"><img src=\"https://colab.research.google.com/assets/colab-badge.svg\" alt=\"Open In Colab\"/></a>"
      ]
    },
    {
      "cell_type": "code",
      "execution_count": null,
      "metadata": {
        "id": "vqgCNum1YJin"
      },
      "outputs": [],
      "source": []
    },
    {
      "cell_type": "code",
      "source": [
        "import pandas as pd\n",
        "# Sample data for car sales\n",
        "cardata = {\n",
        "'Brand': ['Maruti', 'Toyota', 'Mahindra', 'Ford', 'Maruti', 'Toyota', 'Toyota', 'Ford', 'Mahindra', 'Maruti'],\n",
        "'Year': [2009, 2010, 2011, 2010, 2010, 2009, 2010, 2012, 2010, 2009],\n",
        "'Model': ['Swift', 'Corolla', 'Scorpio', 'Fiesta', 'Alto', 'Camry', 'Innova', 'Figo', 'Bolero', 'WagonR'],\n",
        "'Sales': [120, 150, 95, 50, 105, 130, 90, 75, 85, 115]\n",
        "}\n",
        "# Create a DataFrame from the sample data\n",
        "wainaina = pd.DataFrame(cardata)\n",
        "# Filter data for the year 2010 or 2011 using logical OR operator |\n",
        "filtered_data = wainaina[(wainaina['Year'] == 2010) | (wainaina['Year'] == 2011) | (wainaina['Year'] == 2009)]\n",
        "# Display the filtered DataFrame\n",
        "print(filtered_data)"
      ],
      "metadata": {
        "colab": {
          "base_uri": "https://localhost:8080/"
        },
        "id": "j41xwjljYo9k",
        "outputId": "d8b429c0-d20f-4f13-bad2-34e253664dac"
      },
      "execution_count": 2,
      "outputs": [
        {
          "output_type": "stream",
          "name": "stdout",
          "text": [
            "      Brand  Year    Model  Sales\n",
            "0    Maruti  2009    Swift    120\n",
            "1    Toyota  2010  Corolla    150\n",
            "2  Mahindra  2011  Scorpio     95\n",
            "3      Ford  2010   Fiesta     50\n",
            "4    Maruti  2010     Alto    105\n",
            "5    Toyota  2009    Camry    130\n",
            "6    Toyota  2010   Innova     90\n",
            "8  Mahindra  2010   Bolero     85\n",
            "9    Maruti  2009   WagonR    115\n"
          ]
        }
      ]
    },
    {
      "cell_type": "code",
      "source": [
        "import pandas as pd\n",
        "cardata = {\n",
        "'Brand': ['Maruti', 'Toyota', 'Mahindra', 'Ford', 'Maruti', 'Toyota', 'Toyota', 'Ford', 'Mahindra', 'Maruti'],\n",
        "'Year': [2009, 2010, 2011, 2010, 2010, 2009, 2010, 2012, 2010, 2009],\n",
        "'Model': ['Swift', 'Corolla', 'Scorpio', 'Fiesta', 'Alto', 'Camry', 'Innova', 'Figo', 'Bolero', 'WagonR'],\n",
        "'Sales': [120, 150, 95, 50, 105, 130, 90, 75, 85, 115]\n",
        "}\n",
        "# Create a DataFrame from the sample data\n",
        "wainaina= pd.DataFrame(cardata)\n",
        "# Filter the data to keep only car sales in the year 2010\n",
        "sales2010 = wainaina[wainaina['Year'] == 2010]\n",
        "# Display the filtered DataFrame for car sales in 2010\n",
        "print(sales2010)"
      ],
      "metadata": {
        "colab": {
          "base_uri": "https://localhost:8080/"
        },
        "id": "ZIarwLE3YPYT",
        "outputId": "2ba4b560-0f0a-48ad-d792-dbcdece99d60"
      },
      "execution_count": 1,
      "outputs": [
        {
          "output_type": "stream",
          "name": "stdout",
          "text": [
            "      Brand  Year    Model  Sales\n",
            "1    Toyota  2010  Corolla    150\n",
            "3      Ford  2010   Fiesta     50\n",
            "4    Maruti  2010     Alto    105\n",
            "6    Toyota  2010   Innova     90\n",
            "8  Mahindra  2010   Bolero     85\n"
          ]
        }
      ]
    }
  ]
}